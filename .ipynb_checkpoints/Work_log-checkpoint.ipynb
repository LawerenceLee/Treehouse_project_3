{
 "cells": [
  {
   "cell_type": "code",
   "execution_count": 1,
   "metadata": {},
   "outputs": [
    {
     "name": "stdout",
     "output_type": "stream",
     "text": [
      "WORK LOGGER\n",
      "\n",
      "    -- Options --\n",
      "    [N] : New Entry\n",
      "    [S] : Search Entries\n",
      "    [E] : EXIT\n",
      "    \n",
      "Please select an option from above: e\n"
     ]
    }
   ],
   "source": [
    "# work_log.py\n",
    "import datetime as dt\n",
    "import pytz\n",
    "import csv\n",
    "import os\n",
    "\n",
    "def __check_for_log():\n",
    "    \"\"\"\n",
    "    Checks for work_log.csv in the current directory, and creates\n",
    "    the csv file with defined fieldnames if it is not found.\n",
    "    \"\"\"\n",
    "    if 'work_log.csv' not in os.listdir(str(os.getcwd())):\n",
    "        with open('work_log.csv', 'a') as csvfile:\n",
    "            fieldnames = ['task_date', 'task_time', 'task_name', 'task_minutes', 'task_note']\n",
    "            itemwriter = csv.DictWriter(csvfile, fieldnames=fieldnames)\n",
    "            itemwriter.writeheader()\n",
    "\n",
    "def __clear():\n",
    "    \"\"\"\n",
    "    Clears the terminal screen.\n",
    "    \"\"\"\n",
    "    os.system(\"cls\" if os.name == \"nt\" else \"clear\")\n",
    "\n",
    "def __input_menu():\n",
    "    __clear()\n",
    "    task_name = input('Enter task name: ')\n",
    "    __clear()\n",
    "    task_time = input('Time to complete task in minutes: ')\n",
    "    task_note = ''\n",
    "    __clear()\n",
    "    add_note_quest = input('Would you like to add any additional notes [y/N]: ').upper()\n",
    "    if add_note_quest == 'Y':\n",
    "        __clear()\n",
    "        task_note = input('Enter additional notes: ') \n",
    "    \n",
    "    with open('work_log.csv', 'a') as csvfile:\n",
    "        fieldnames = ['task_date', 'task_time', 'task_name', 'task_minutes', 'task_note']\n",
    "        itemwriter = csv.DictWriter(csvfile, fieldnames=fieldnames)\n",
    "        \n",
    "        itemwriter.writerow({\n",
    "            'task_date': dt.datetime.now().strftime('%m/%d/%Y'),\n",
    "            'task_time': dt.datetime.now().strftime('%H:%M'),\n",
    "            'task_name': task_name,\n",
    "            'task_minutes': task_time,\n",
    "            'task_note': task_note\n",
    "        })\n",
    "    __main_menu()\n",
    "\n",
    "def __list_printout(search_param):\n",
    "    __clear()\n",
    "    # takes in a search type perameter (by date, time spent, pattern)\n",
    "    # prints out a list of dates with unique number identifiers\n",
    "    pass\n",
    "\n",
    "def __entry_printout():\n",
    "    __clear()\n",
    "    pass\n",
    "\n",
    "def __date_search():\n",
    "    __clear()\n",
    "    # provide a list of dates\n",
    "    date_choice = input('Choose a date from above: ')\n",
    "    # returns all entries with date_choice\n",
    "\n",
    "def __time_search():\n",
    "    __clear()\n",
    "    time_spent = input('Please enter the number of minutes you would like to search by: ')\n",
    "    # user enters a number for min spent on task\n",
    "    # return a list of entries\n",
    "    # user picks from list\n",
    "    \n",
    "def __exact_search():\n",
    "    __clear()\n",
    "    usr_str = input('Please enter the keyword or phrase you would to search by: ')\n",
    "    # user enters a str \n",
    "    # return a list of entries containing all of such string\n",
    "    # user picks from list\n",
    "\n",
    "def __pattern_search():\n",
    "    __clear()\n",
    "    pattern = input('Please enter a valid Regex Pattern to search by: ')\n",
    "    # searches csv with regex, and returns a list of entries\n",
    "    # if list is empty the user is alerted and presented with an option to return to \n",
    "    # try another regex search, return to search menu, or exit.\n",
    "    # user picks from list\n",
    "\n",
    "def __search_menu():\n",
    "    __clear()\n",
    "    print('SEARCH MENU')\n",
    "    print(\"\"\"\n",
    "    -- Options --\n",
    "    [D] : Search by Date\n",
    "    [T] : Search by Time Spent\n",
    "    [K] : Search with specific Keyword or phrase\n",
    "    [R] : Search with a Regular Expression\n",
    "    [M] : MAIN MENU\n",
    "    [E] : EXIT\n",
    "    \"\"\")\n",
    "    search_choice = input(\"Please select an option from above: \").upper()\n",
    "    if search_choice == 'D':\n",
    "        __date_search()\n",
    "    elif search_choice == 'T':\n",
    "        __time_search()\n",
    "    elif search_choice == 'K':\n",
    "        __exact_search()\n",
    "    elif search_choice == 'R':\n",
    "        __pattern_search()\n",
    "    elif search_choice == 'M':\n",
    "        __main_menu()\n",
    "    elif search_choice == 'E':\n",
    "        exit\n",
    "    else:\n",
    "        input('The input provided does not match a menu option, please try again. ')\n",
    "        __search_menu()\n",
    "    \n",
    "\n",
    "def __main_menu():\n",
    "    __clear()\n",
    "    print('WORK LOGGER')\n",
    "    print(\"\"\"\n",
    "    -- Options --\n",
    "    [N] : New Entry\n",
    "    [S] : Search Entries\n",
    "    [E] : EXIT\n",
    "    \"\"\")\n",
    "    option_choice = input(\"Please select an option from above: \").upper()\n",
    "    if option_choice == 'N':\n",
    "        __input_menu()\n",
    "    elif option_choice == 'S':\n",
    "        __search_menu()\n",
    "    elif option_choice == 'E':\n",
    "        exit\n",
    "    else:\n",
    "        input('The input provided does not match a menu option, please try again. ')\n",
    "        __main_menu()\n",
    "\n",
    "if __name__ == '__main__':\n",
    "    __check_for_log()\n",
    "    __main_menu()\n"
   ]
  },
  {
   "cell_type": "code",
   "execution_count": 2,
   "metadata": {},
   "outputs": [
    {
     "name": "stdout",
     "output_type": "stream",
     "text": [
      "task_date,task_time,task_name,task_minutes,task_note\r",
      "\r\n",
      "08/24/2017,00:36,Running for the hills,5,\r",
      "\r\n",
      "08/24/2017,00:42,Running for governor without giving a hoot.,456,This is a joke\r",
      "\r\n",
      "08/25/2017,04:15,Practicing Python,60,\r",
      "\r\n"
     ]
    }
   ],
   "source": [
    "! cat work_log.csv"
   ]
  },
  {
   "cell_type": "code",
   "execution_count": 3,
   "metadata": {
    "collapsed": true
   },
   "outputs": [],
   "source": [
    "import pandas as pd"
   ]
  },
  {
   "cell_type": "code",
   "execution_count": 4,
   "metadata": {},
   "outputs": [
    {
     "data": {
      "text/html": [
       "<div>\n",
       "<style>\n",
       "    .dataframe thead tr:only-child th {\n",
       "        text-align: right;\n",
       "    }\n",
       "\n",
       "    .dataframe thead th {\n",
       "        text-align: left;\n",
       "    }\n",
       "\n",
       "    .dataframe tbody tr th {\n",
       "        vertical-align: top;\n",
       "    }\n",
       "</style>\n",
       "<table border=\"1\" class=\"dataframe\">\n",
       "  <thead>\n",
       "    <tr style=\"text-align: right;\">\n",
       "      <th></th>\n",
       "      <th>task_date</th>\n",
       "      <th>task_time</th>\n",
       "      <th>task_name</th>\n",
       "      <th>task_minutes</th>\n",
       "      <th>task_note</th>\n",
       "    </tr>\n",
       "  </thead>\n",
       "  <tbody>\n",
       "    <tr>\n",
       "      <th>0</th>\n",
       "      <td>08/24/2017</td>\n",
       "      <td>00:36</td>\n",
       "      <td>Running for the hills</td>\n",
       "      <td>5</td>\n",
       "      <td>NaN</td>\n",
       "    </tr>\n",
       "    <tr>\n",
       "      <th>1</th>\n",
       "      <td>08/24/2017</td>\n",
       "      <td>00:42</td>\n",
       "      <td>Running for governor without giving a hoot.</td>\n",
       "      <td>456</td>\n",
       "      <td>This is a joke</td>\n",
       "    </tr>\n",
       "    <tr>\n",
       "      <th>2</th>\n",
       "      <td>08/25/2017</td>\n",
       "      <td>04:15</td>\n",
       "      <td>Practicing Python</td>\n",
       "      <td>60</td>\n",
       "      <td>NaN</td>\n",
       "    </tr>\n",
       "  </tbody>\n",
       "</table>\n",
       "</div>"
      ],
      "text/plain": [
       "    task_date task_time                                    task_name  \\\n",
       "0  08/24/2017     00:36                        Running for the hills   \n",
       "1  08/24/2017     00:42  Running for governor without giving a hoot.   \n",
       "2  08/25/2017     04:15                            Practicing Python   \n",
       "\n",
       "   task_minutes       task_note  \n",
       "0             5             NaN  \n",
       "1           456  This is a joke  \n",
       "2            60             NaN  "
      ]
     },
     "execution_count": 4,
     "metadata": {},
     "output_type": "execute_result"
    }
   ],
   "source": [
    "work = pd.read_csv('work_log.csv')\n",
    "work.head()"
   ]
  },
  {
   "cell_type": "code",
   "execution_count": 9,
   "metadata": {},
   "outputs": [],
   "source": [
    "def my_call():\n",
    "    with open('work_log.csv',newline='') as csvfile:\n",
    "        logreader = csv.DictReader(csvfile, delimiter=',')\n",
    "        rows = list(logreader)\n",
    "        param_list = []\n",
    "        for row in rows:\n",
    "            param_list.append(row['task_date'])\n",
    "        return set(param_list)\n",
    "    "
   ]
  },
  {
   "cell_type": "code",
   "execution_count": 10,
   "metadata": {},
   "outputs": [
    {
     "data": {
      "text/plain": [
       "{'08/24/2017', '08/25/2017'}"
      ]
     },
     "execution_count": 10,
     "metadata": {},
     "output_type": "execute_result"
    }
   ],
   "source": [
    "my_call()"
   ]
  },
  {
   "cell_type": "code",
   "execution_count": null,
   "metadata": {
    "collapsed": true
   },
   "outputs": [],
   "source": []
  }
 ],
 "metadata": {
  "kernelspec": {
   "display_name": "Python 3",
   "language": "python",
   "name": "python3"
  },
  "language_info": {
   "codemirror_mode": {
    "name": "ipython",
    "version": 3
   },
   "file_extension": ".py",
   "mimetype": "text/x-python",
   "name": "python",
   "nbconvert_exporter": "python",
   "pygments_lexer": "ipython3",
   "version": "3.6.1"
  }
 },
 "nbformat": 4,
 "nbformat_minor": 2
}
